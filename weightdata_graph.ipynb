{
 "cells": [
  {
   "cell_type": "code",
   "execution_count": 20,
   "metadata": {
    "collapsed": false
   },
   "outputs": [],
   "source": [
    "import pandas as pd,numpy,matplotlib.pyplot as plt\n",
    "%matplotlib inline"
   ]
  },
  {
   "cell_type": "code",
   "execution_count": 21,
   "metadata": {
    "collapsed": false
   },
   "outputs": [],
   "source": [
    "df = pd.read_csv(\"weightdata.csv\",sep=\",\",index_col=0)"
   ]
  },
  {
   "cell_type": "code",
   "execution_count": 22,
   "metadata": {
    "collapsed": false
   },
   "outputs": [
    {
     "data": {
      "text/plain": [
       "0     81.5\n",
       "1     80.7\n",
       "2     81.3\n",
       "3     80.2\n",
       "4     80.0\n",
       "5     79.5\n",
       "6     80.0\n",
       "7     79.8\n",
       "8     79.8\n",
       "9     80.0\n",
       "10    79.6\n",
       "11    79.0\n",
       "12    79.5\n",
       "13    79.6\n",
       "14    79.6\n",
       "15    79.6\n",
       "16    78.5\n",
       "17    78.8\n",
       "18    78.8\n",
       "19    79.1\n",
       "20    78.8\n",
       "21    78.5\n",
       "22    77.0\n",
       "23    77.1\n",
       "24    77.0\n",
       "25    77.0\n",
       "26    77.0\n",
       "27    77.0\n",
       "28    77.0\n",
       "29    76.3\n",
       "30    76.3\n",
       "31    76.2\n",
       "32    76.0\n",
       "Name: 体重, dtype: float64"
      ]
     },
     "execution_count": 22,
     "metadata": {},
     "output_type": "execute_result"
    }
   ],
   "source": [
    "df.体重"
   ]
  },
  {
   "cell_type": "code",
   "execution_count": 23,
   "metadata": {
    "collapsed": false
   },
   "outputs": [
    {
     "data": {
      "image/png": "[encoded data removed]",
      "text/plain": [
       "<matplotlib.figure.Figure at 0x11ffba278>"
      ]
     },
     "metadata": {},
     "output_type": "display_data"
    }
   ],
   "source": [
    "plt.plot(df.体重)\n",
    "plt.plot(df.体脂肪率)\n",
    "plt.plot(df.BMI)\n",
    "plt.show()"
   ]
  },
  {
   "cell_type": "code",
   "execution_count": 25,
   "metadata": {
    "collapsed": false
   },
   "outputs": [],
   "source": [
    "weightlist = df.体重"
   ]
  },
  {
   "cell_type": "code",
   "execution_count": 26,
   "metadata": {
    "collapsed": false,
    "scrolled": true
   },
   "outputs": [
    {
     "name": "stdout",
     "output_type": "stream",
     "text": [
      "0     81.5\n",
      "1     80.7\n",
      "2     81.3\n",
      "3     80.2\n",
      "4     80.0\n",
      "5     79.5\n",
      "6     80.0\n",
      "7     79.8\n",
      "8     79.8\n",
      "9     80.0\n",
      "10    79.6\n",
      "11    79.0\n",
      "12    79.5\n",
      "13    79.6\n",
      "14    79.6\n",
      "15    79.6\n",
      "16    78.5\n",
      "17    78.8\n",
      "18    78.8\n",
      "19    79.1\n",
      "20    78.8\n",
      "21    78.5\n",
      "22    77.0\n",
      "23    77.1\n",
      "24    77.0\n",
      "25    77.0\n",
      "26    77.0\n",
      "27    77.0\n",
      "28    77.0\n",
      "29    76.3\n",
      "30    76.3\n",
      "31    76.2\n",
      "32    76.0\n",
      "Name: 体重, dtype: float64\n"
     ]
    },
    {
     "data": {
      "image/png": "[encoded data removed]",
      "text/plain": [
       "<matplotlib.figure.Figure at 0x121a1cc18>"
      ]
     },
     "metadata": {},
     "output_type": "display_data"
    }
   ],
   "source": [
    "print(weightlist)\n",
    "plt.plot(weightlist)\n",
    "plt.show()"
   ]
  },
  {
   "cell_type": "code",
   "execution_count": null,
   "metadata": {
    "collapsed": true
   },
   "outputs": [],
   "source": []
  }
 ],
 "metadata": {
  "kernelspec": {
   "display_name": "Python 3",
   "language": "python",
   "name": "python3"
  },
  "language_info": {
   "codemirror_mode": {
    "name": "ipython",
    "version": 3
   },
   "file_extension": ".py",
   "mimetype": "text/x-python",
   "name": "python",
   "nbconvert_exporter": "python",
   "pygments_lexer": "ipython3",
   "version": "3.6.0"
  }
 },
 "nbformat": 4,
 "nbformat_minor": 2
}
